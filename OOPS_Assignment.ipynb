{
  "nbformat": 4,
  "nbformat_minor": 0,
  "metadata": {
    "colab": {
      "provenance": []
    },
    "kernelspec": {
      "name": "python3",
      "display_name": "Python 3"
    },
    "language_info": {
      "name": "python"
    }
  },
  "cells": [
    {
      "cell_type": "markdown",
      "source": [
        "1. What are the five key concepts of Object-Oriented Programming (OOP)?\n",
        "\n",
        "The five key concepts of Object-Oriented Programming (OOP) are\n",
        "1.Encapsulation\n",
        "2.Abstraction\n",
        "3.Inheritance\n",
        "4.Polymorphism\n",
        "5.Composition"
      ],
      "metadata": {
        "id": "KbUVd0750tuP"
      }
    },
    {
      "cell_type": "markdown",
      "source": [
        "2.. Write a Python class for a `Car` with attributes for `make`, `model`, and `year`. Include a method to display\n",
        "the car's information.\n",
        "\n"
      ],
      "metadata": {
        "id": "JP7PJQFB04bZ"
      }
    },
    {
      "cell_type": "code",
      "source": [
        "class Car:\n",
        "    def __init__(self, make, model, year):\n",
        "        self.make = make\n",
        "        self.model = model\n",
        "        self.year = year\n",
        "\n",
        "    def display_info(self):\n",
        "        print(f\"Car Make: {self.make}\")\n",
        "        print(f\"Car Model: {self.model}\")\n",
        "        print(f\"Car Year: {self.year}\")\n",
        "\n",
        "# Example usage:\n",
        "my_car = Car(\"Toyota\", \"Corolla\", 2020)\n",
        "my_car.display_info()\n"
      ],
      "metadata": {
        "colab": {
          "base_uri": "https://localhost:8080/"
        },
        "id": "Kl28YTbC1cIB",
        "outputId": "c5e12d03-ede0-4ab8-cb62-049e7d2d56a4"
      },
      "execution_count": 10,
      "outputs": [
        {
          "output_type": "stream",
          "name": "stdout",
          "text": [
            "Car Make: Toyota\n",
            "Car Model: Corolla\n",
            "Car Year: 2020\n"
          ]
        }
      ]
    },
    {
      "cell_type": "markdown",
      "source": [
        " 3.Explain the difference between instance methods and class methods. Provide an example of each.\n",
        "\n",
        "\n",
        " Instance Methods-Instance methods are functions defined inside a class that operate on an instance of that class. They take self as their first parameter, which refers to the specific object created from the class.\n",
        "Usage: They are used to access or modify the instance's attributes.\n",
        "Example:"
      ],
      "metadata": {
        "id": "SIWqwhfZ1dvP"
      }
    },
    {
      "cell_type": "code",
      "source": [
        "class Dog:\n",
        "    def __init__(self, name):\n",
        "        self.name = name\n",
        "\n",
        "    def bark(self):\n",
        "        return f\"{self.name} says woof!\"\n",
        "\n",
        "# Using the instance method\n",
        "my_dog = Dog(\"Buddy\")\n",
        "print(my_dog.bark())  # Output: Buddy says woof!\n"
      ],
      "metadata": {
        "colab": {
          "base_uri": "https://localhost:8080/"
        },
        "id": "I3nAIJSk1x8H",
        "outputId": "73da36f1-e8a0-4269-cacf-d7edb97b2331"
      },
      "execution_count": 11,
      "outputs": [
        {
          "output_type": "stream",
          "name": "stdout",
          "text": [
            "Buddy says woof!\n"
          ]
        }
      ]
    },
    {
      "cell_type": "markdown",
      "source": [
        "class methods- Definition: Class methods are functions defined inside a class that operate on the class itself rather than on instances. They take cls as their first parameter, which refers to the class.\n",
        "Usage: They are used for operations that are relevant to the class, such as creating instances or modifying class-level attributes. Class methods are defined using the @classmethod decorator.\n",
        "Example:"
      ],
      "metadata": {
        "id": "AKj8R_8G16dP"
      }
    },
    {
      "cell_type": "code",
      "source": [
        "class Dog:\n",
        "    species = \"Canis lupus familiaris\"  # Class attribute\n",
        "\n",
        "    @classmethod\n",
        "    def get_species(cls):\n",
        "        return cls.species\n",
        "\n",
        "# Using the class method\n",
        "print(Dog.get_species())  # Output: Canis lupus familiaris\n"
      ],
      "metadata": {
        "colab": {
          "base_uri": "https://localhost:8080/"
        },
        "id": "jMwu1fMN1_oH",
        "outputId": "8efb241e-9263-4f29-ed54-96d705908d9c"
      },
      "execution_count": 12,
      "outputs": [
        {
          "output_type": "stream",
          "name": "stdout",
          "text": [
            "Canis lupus familiaris\n"
          ]
        }
      ]
    },
    {
      "cell_type": "markdown",
      "source": [
        "4.How does Python implement method overloading? Give an example.\n",
        "\n",
        "Python does not support method overloading in the traditional sense found in languages like Java or C++. Instead, it allows you to define a method with the same name multiple times, but only the last definition will be effective. However, you can achieve similar functionality using default arguments or variable-length argument lists.\n",
        "\n",
        "Example Using Default Arguments\n",
        "You can use default parameters to allow a method to handle different numbers of arguments:"
      ],
      "metadata": {
        "id": "d-UPDvCg2CY2"
      }
    },
    {
      "cell_type": "code",
      "source": [
        "class Example:\n",
        "    def display(self, a, b=0, c=0):\n",
        "        print(f\"a: {a}, b: {b}, c: {c}\")\n",
        "\n",
        "# Creating an instance of Example\n",
        "obj = Example()\n",
        "\n",
        "# Calling display with one argument\n",
        "obj.display(1)\n",
        "\n",
        "# Calling display with two arguments\n",
        "obj.display(1, 2)\n",
        "\n",
        "# Calling display with three arguments\n",
        "obj.display(1, 2, 3)\n"
      ],
      "metadata": {
        "colab": {
          "base_uri": "https://localhost:8080/"
        },
        "id": "GK2QGfEJ2bHk",
        "outputId": "56137dc4-6da2-47f9-b436-1b54c18702b7"
      },
      "execution_count": 13,
      "outputs": [
        {
          "output_type": "stream",
          "name": "stdout",
          "text": [
            "a: 1, b: 0, c: 0\n",
            "a: 1, b: 2, c: 0\n",
            "a: 1, b: 2, c: 3\n"
          ]
        }
      ]
    },
    {
      "cell_type": "markdown",
      "source": [
        "5.What are the three types of access modifiers in Python? How are they denoted?\n",
        "\n",
        "In Python, access modifiers are used to define the accessibility of class members (attributes and methods). The three types of access modifiers are:\n",
        "\n",
        "Public:\n",
        "\n",
        "Members are accessible from anywhere, both inside and outside the class.\n",
        "Denotation: No special prefix is used.\n",
        "Example"
      ],
      "metadata": {
        "id": "Y6nrObDR2gM-"
      }
    },
    {
      "cell_type": "code",
      "source": [
        "class MyClass:\n",
        "    def __init__(self):\n",
        "        self.public_var = \"I am public\"\n",
        "\n",
        "obj = MyClass()\n",
        "print(obj.public_var)  # Accessible\n"
      ],
      "metadata": {
        "colab": {
          "base_uri": "https://localhost:8080/"
        },
        "id": "9SCxz4vC2xGM",
        "outputId": "cfcd2191-ec90-40c2-ad14-07b476ea8f97"
      },
      "execution_count": 14,
      "outputs": [
        {
          "output_type": "stream",
          "name": "stdout",
          "text": [
            "I am public\n"
          ]
        }
      ]
    },
    {
      "cell_type": "markdown",
      "source": [
        "Protected:\n",
        "\n",
        "Members are intended to be accessible only within the class and its subclasses. However, they can still be accessed from outside the class.\n",
        "Denotation: A single underscore _ prefix is used.\n",
        "Example"
      ],
      "metadata": {
        "id": "08ew_3nj20Fs"
      }
    },
    {
      "cell_type": "code",
      "source": [
        "class MyClass:\n",
        "    def __init__(self):\n",
        "        self._protected_var = \"I am protected\"\n",
        "\n",
        "obj = MyClass()\n",
        "print(obj._protected_var)  # Accessible, but intended for internal use\n"
      ],
      "metadata": {
        "colab": {
          "base_uri": "https://localhost:8080/"
        },
        "id": "vORu0E_r24NF",
        "outputId": "7019392f-0639-4f78-b68c-c51eac9a58d3"
      },
      "execution_count": 15,
      "outputs": [
        {
          "output_type": "stream",
          "name": "stdout",
          "text": [
            "I am protected\n"
          ]
        }
      ]
    },
    {
      "cell_type": "markdown",
      "source": [
        "Private:\n",
        "\n",
        "Members are intended to be accessible only within the class itself. They cannot be accessed directly from outside the class.\n",
        "Denotation: A double underscore __ prefix is used, which triggers name mangling.\n",
        "Example"
      ],
      "metadata": {
        "id": "XbTELV9f26gc"
      }
    },
    {
      "cell_type": "code",
      "source": [
        "class MyClass:\n",
        "    def __init__(self):\n",
        "        self.__private_var = \"I am private\"\n",
        "\n",
        "    def get_private_var(self):\n",
        "        return self.__private_var\n",
        "\n",
        "obj = MyClass()\n",
        "# print(obj.__private_var)  # Raises an AttributeError\n",
        "print(obj.get_private_var())  # Accessed through a public method\n"
      ],
      "metadata": {
        "colab": {
          "base_uri": "https://localhost:8080/"
        },
        "id": "7oIGBzAa29F9",
        "outputId": "18733fe4-ca2b-4eb8-abbc-1e91a3c00b4d"
      },
      "execution_count": 16,
      "outputs": [
        {
          "output_type": "stream",
          "name": "stdout",
          "text": [
            "I am private\n"
          ]
        }
      ]
    },
    {
      "cell_type": "markdown",
      "source": [
        "6. Describe the five types of inheritance in Python. Provide a simple example of multiple inheritance.\n",
        "\n",
        "n Python, inheritance allows a class (derived class) to inherit attributes and methods from another class (base class). Here are the five types of inheritance in Python:\n",
        "\n",
        "Single Inheritance:\n",
        "\n",
        "A class inherits from a single base class."
      ],
      "metadata": {
        "id": "pJZoGC9K3LMr"
      }
    },
    {
      "cell_type": "code",
      "source": [
        "class Animal:\n",
        "    def speak(self):\n",
        "        return \"Animal speaks\"\n",
        "\n",
        "class Dog(Animal):\n",
        "    def bark(self):\n",
        "        return \"Woof!\"\n",
        "\n",
        "dog = Dog()\n",
        "print(dog.speak())  # Output: Animal speaks\n"
      ],
      "metadata": {
        "colab": {
          "base_uri": "https://localhost:8080/"
        },
        "id": "asCmBa9t3bMz",
        "outputId": "3d344500-7a15-4e1d-dff2-284dbad9b1f5"
      },
      "execution_count": 17,
      "outputs": [
        {
          "output_type": "stream",
          "name": "stdout",
          "text": [
            "Animal speaks\n"
          ]
        }
      ]
    },
    {
      "cell_type": "markdown",
      "source": [
        "Multiple Inheritance:\n",
        "\n",
        "A class inherits from multiple base classes.\n",
        "Example"
      ],
      "metadata": {
        "id": "KAxaFstO3e7q"
      }
    },
    {
      "cell_type": "code",
      "source": [
        "class Parent1:\n",
        "    def method1(self):\n",
        "        return \"Method from Parent1\"\n",
        "\n",
        "class Parent2:\n",
        "    def method2(self):\n",
        "        return \"Method from Parent2\"\n",
        "\n",
        "class Child(Parent1, Parent2):\n",
        "    def method3(self):\n",
        "        return \"Method from Child\"\n",
        "\n",
        "child = Child()\n",
        "print(child.method1())  # Output: Method from Parent1\n",
        "print(child.method2())  # Output: Method from Parent2\n"
      ],
      "metadata": {
        "colab": {
          "base_uri": "https://localhost:8080/"
        },
        "id": "ID7pcPBd3hAa",
        "outputId": "0c307f08-169d-4577-a6ad-e54b6bedb997"
      },
      "execution_count": 18,
      "outputs": [
        {
          "output_type": "stream",
          "name": "stdout",
          "text": [
            "Method from Parent1\n",
            "Method from Parent2\n"
          ]
        }
      ]
    },
    {
      "cell_type": "markdown",
      "source": [
        "Multilevel Inheritance:\n",
        "\n",
        "A class inherits from a base class, which in turn inherits from another class.\n",
        "Example"
      ],
      "metadata": {
        "id": "bA_pDd583j-y"
      }
    },
    {
      "cell_type": "code",
      "source": [
        "class Grandparent:\n",
        "    def method(self):\n",
        "        return \"Method from Grandparent\"\n",
        "\n",
        "class Parent(Grandparent):\n",
        "    def method(self):\n",
        "        return \"Method from Parent\"\n",
        "\n",
        "class Child(Parent):\n",
        "    def method(self):\n",
        "        return \"Method from Child\"\n",
        "\n",
        "child = Child()\n",
        "print(child.method())  # Output: Method from Child\n"
      ],
      "metadata": {
        "colab": {
          "base_uri": "https://localhost:8080/"
        },
        "id": "agTf4cWi3nuR",
        "outputId": "dd52b27a-8d18-4a0b-ed26-0b4b76032596"
      },
      "execution_count": 19,
      "outputs": [
        {
          "output_type": "stream",
          "name": "stdout",
          "text": [
            "Method from Child\n"
          ]
        }
      ]
    },
    {
      "cell_type": "markdown",
      "source": [
        "Hierarchical Inheritance:\n",
        "\n",
        "Multiple classes inherit from a single base class.\n",
        "Example"
      ],
      "metadata": {
        "id": "D42dNavD3sLx"
      }
    },
    {
      "cell_type": "code",
      "source": [
        "class Parent:\n",
        "    def method(self):\n",
        "        return \"Method from Parent\"\n",
        "\n",
        "class Child1(Parent):\n",
        "    def method(self):\n",
        "        return \"Method from Child1\"\n",
        "\n",
        "class Child2(Parent):\n",
        "    def method(self):\n",
        "        return \"Method from Child2\"\n",
        "\n",
        "child1 = Child1()\n",
        "child2 = Child2()\n",
        "print(child1.method())  # Output: Method from Child1\n",
        "print(child2.method())  # Output: Method from Child2\n"
      ],
      "metadata": {
        "colab": {
          "base_uri": "https://localhost:8080/"
        },
        "id": "8YA5ZB2T3s2i",
        "outputId": "be233392-48d7-4a3a-a668-a5c0074658af"
      },
      "execution_count": 20,
      "outputs": [
        {
          "output_type": "stream",
          "name": "stdout",
          "text": [
            "Method from Child1\n",
            "Method from Child2\n"
          ]
        }
      ]
    },
    {
      "cell_type": "markdown",
      "source": [
        "Hybrid Inheritance:\n",
        "\n",
        "A combination of two or more types of inheritance.\n",
        "Example:"
      ],
      "metadata": {
        "id": "BnoXHKhG3vDp"
      }
    },
    {
      "cell_type": "code",
      "source": [
        "class Base:\n",
        "    def base_method(self):\n",
        "        return \"Method from Base\"\n",
        "\n",
        "class A(Base):\n",
        "    def a_method(self):\n",
        "        return \"Method from A\"\n",
        "\n",
        "class B(Base):\n",
        "    def b_method(self):\n",
        "        return \"Method from B\"\n",
        "\n",
        "class C(A, B):\n",
        "    def c_method(self):\n",
        "        return \"Method from C\"\n",
        "\n",
        "c = C()\n",
        "print(c.base_method())  # Output: Method from Base\n",
        "print(c.a_method())     # Output: Method from A\n",
        "print(c.b_method())     # Output: Method from B\n"
      ],
      "metadata": {
        "colab": {
          "base_uri": "https://localhost:8080/"
        },
        "id": "iTKPp5_c3zAy",
        "outputId": "92745fbd-95d9-47d3-dd34-d467d36059aa"
      },
      "execution_count": 21,
      "outputs": [
        {
          "output_type": "stream",
          "name": "stdout",
          "text": [
            "Method from Base\n",
            "Method from A\n",
            "Method from B\n"
          ]
        }
      ]
    },
    {
      "cell_type": "markdown",
      "source": [
        "7.What is the Method Resolution Order (MRO) in Python? How can you retrieve it programmatically?\n",
        "\n",
        "The Method Resolution Order (MRO) in Python determines the order in which base classes are searched when executing a method or accessing an attribute. It is particularly important in the context of multiple inheritance, where the same method might exist in multiple base classes.\n",
        "\n",
        "Retrieving MRO Programmatically\n",
        "You can retrieve the MRO of a class using the mro() method or the __mro__ attribute.\n",
        "\n",
        "Example\n",
        "Here's how you can define a class with multiple inheritance and retrieve its MRO:"
      ],
      "metadata": {
        "id": "3UsRwb0P3065"
      }
    },
    {
      "cell_type": "code",
      "source": [
        "class A:\n",
        "    pass\n",
        "\n",
        "class B(A):\n",
        "    pass\n",
        "\n",
        "class C(A):\n",
        "    pass\n",
        "\n",
        "class D(B, C):\n",
        "    pass\n",
        "\n",
        "# Retrieve MRO\n",
        "print(D.mro())  # Output: [<class '__main__.D'>, <class '__main__.B'>, <class '__main__.C'>, <class '__main__.A'>, <class 'object'>]\n",
        "\n",
        "# Alternatively, using __mro__\n",
        "print(D.__mro__)  # Output: (<class '__main__.D'>, <class '__main__.B'>, <class '__main__.C'>, <class '__main__.A'>, <class 'object'>)\n"
      ],
      "metadata": {
        "colab": {
          "base_uri": "https://localhost:8080/"
        },
        "id": "sW8xIcXf4ccf",
        "outputId": "7ea42204-3d8b-4a0f-e140-96995513b4e3"
      },
      "execution_count": 22,
      "outputs": [
        {
          "output_type": "stream",
          "name": "stdout",
          "text": [
            "[<class '__main__.D'>, <class '__main__.B'>, <class '__main__.C'>, <class '__main__.A'>, <class 'object'>]\n",
            "(<class '__main__.D'>, <class '__main__.B'>, <class '__main__.C'>, <class '__main__.A'>, <class 'object'>)\n"
          ]
        }
      ]
    },
    {
      "cell_type": "markdown",
      "source": [
        "8.Create an abstract base class `Shape` with an abstract method `area()`. Then create two subclasses\n",
        "`Circle` and `Rectangle` that implement the `area()` method.\n",
        "\n",
        "\n",
        "Here's how you can create an abstract base class Shape with an abstract method area(), and then implement two subclasses Circle and Rectangle that provide their own implementations of the area() method.\n"
      ],
      "metadata": {
        "id": "eauRBR2v4R1o"
      }
    },
    {
      "cell_type": "code",
      "source": [
        "from abc import ABC, abstractmethod\n",
        "import math\n",
        "\n",
        "# Abstract base class\n",
        "class Shape(ABC):\n",
        "    @abstractmethod\n",
        "    def area(self):\n",
        "        pass\n",
        "\n",
        "# Subclass for Circle\n",
        "class Circle(Shape):\n",
        "    def __init__(self, radius):\n",
        "        self.radius = radius\n",
        "\n",
        "    def area(self):\n",
        "        return math.pi * (self.radius ** 2)\n",
        "\n",
        "# Subclass for Rectangle\n",
        "class Rectangle(Shape):\n",
        "    def __init__(self, width, height):\n",
        "        self.width = width\n",
        "        self.height = height\n",
        "\n",
        "    def area(self):\n",
        "        return self.width * self.height\n",
        "\n",
        "# Example usage\n",
        "if __name__ == \"__main__\":\n",
        "    circle = Circle(5)\n",
        "    rectangle = Rectangle(4, 6)\n",
        "\n",
        "    print(f\"Area of Circle: {circle.area()}\")\n",
        "    print(f\"Area of Rectangle: {rectangle.area()}\")\n"
      ],
      "metadata": {
        "colab": {
          "base_uri": "https://localhost:8080/"
        },
        "id": "XP3g-gkW6C-z",
        "outputId": "88c813c2-eaa7-4732-f0dc-d144bf1efeaa"
      },
      "execution_count": 23,
      "outputs": [
        {
          "output_type": "stream",
          "name": "stdout",
          "text": [
            "Area of Circle: 78.53981633974483\n",
            "Area of Rectangle: 24\n"
          ]
        }
      ]
    },
    {
      "cell_type": "markdown",
      "source": [
        "9. Demonstrate polymorphism by creating a function that can work with different shape objects to calculate\n",
        "and print their areas.\n",
        "\n",
        "Certainly! You can demonstrate polymorphism by creating a function that accepts different shape objects (like Circle and Rectangle) and calls their area() methods. Here's how you can do that"
      ],
      "metadata": {
        "id": "tJ65G7rQ6NxK"
      }
    },
    {
      "cell_type": "code",
      "source": [
        "from abc import ABC, abstractmethod\n",
        "import math\n",
        "\n",
        "# Abstract base class\n",
        "class Shape(ABC):\n",
        "    @abstractmethod\n",
        "    def area(self):\n",
        "        pass\n",
        "\n",
        "# Subclass for Circle\n",
        "class Circle(Shape):\n",
        "    def __init__(self, radius):\n",
        "        self.radius = radius\n",
        "\n",
        "    def area(self):\n",
        "        return math.pi * (self.radius ** 2)\n",
        "\n",
        "# Subclass for Rectangle\n",
        "class Rectangle(Shape):\n",
        "    def __init__(self, width, height):\n",
        "        self.width = width\n",
        "        self.height = height\n",
        "\n",
        "    def area(self):\n",
        "        return self.width * self.height\n",
        "\n",
        "# Function to calculate and print area of different shapes\n",
        "def print_area(shape: Shape):\n",
        "    print(f\"The area of the shape is: {shape.area()}\")\n",
        "\n",
        "# Example usage\n",
        "if __name__ == \"__main__\":\n",
        "    circle = Circle(5)\n",
        "    rectangle = Rectangle(4, 6)\n",
        "\n",
        "    print_area(circle)      # Demonstrates polymorphism with Circle\n",
        "    print_area(rectangle)   # Demonstrates polymorphism with Rectangle\n"
      ],
      "metadata": {
        "colab": {
          "base_uri": "https://localhost:8080/"
        },
        "id": "MUd3CsxX6beR",
        "outputId": "f0d43af7-02ef-45e6-97b9-3390f28453e9"
      },
      "execution_count": 24,
      "outputs": [
        {
          "output_type": "stream",
          "name": "stdout",
          "text": [
            "The area of the shape is: 78.53981633974483\n",
            "The area of the shape is: 24\n"
          ]
        }
      ]
    },
    {
      "cell_type": "markdown",
      "source": [
        "10.. Implement encapsulation in a `BankAccount` class with private attributes for `balance` and\n",
        "`account_number`. Include methods for deposit, withdrawal, and balance inquiry.\n",
        "\n",
        "Here’s how you can implement encapsulation in a BankAccount class using private attributes for balance and account_number. The class includes methods for depositing, withdrawing, and checking the balance."
      ],
      "metadata": {
        "id": "gq7KBBIt6iIB"
      }
    },
    {
      "cell_type": "code",
      "source": [
        "class BankAccount:\n",
        "    def __init__(self, account_number, initial_balance=0):\n",
        "        self.__account_number = account_number  # Private attribute\n",
        "        self.__balance = initial_balance  # Private attribute\n",
        "\n",
        "    def deposit(self, amount):\n",
        "        if amount > 0:\n",
        "            self.__balance += amount\n",
        "            print(f\"Deposited: ${amount:.2f}\")\n",
        "        else:\n",
        "            print(\"Deposit amount must be positive.\")\n",
        "\n",
        "    def withdraw(self, amount):\n",
        "        if amount > 0:\n",
        "            if amount <= self.__balance:\n",
        "                self.__balance -= amount\n",
        "                print(f\"Withdrew: ${amount:.2f}\")\n",
        "            else:\n",
        "                print(\"Insufficient funds.\")\n",
        "        else:\n",
        "            print(\"Withdrawal amount must be positive.\")\n",
        "\n",
        "    def get_balance(self):\n",
        "        return self.__balance\n",
        "\n",
        "    def get_account_number(self):\n",
        "        return self.__account_number\n",
        "\n",
        "# Example usage\n",
        "if __name__ == \"__main__\":\n",
        "    account = BankAccount(\"123456789\", 1000)\n",
        "\n",
        "    print(f\"Account Number: {account.get_account_number()}\")\n",
        "    print(f\"Initial Balance: ${account.get_balance():.2f}\")\n",
        "\n",
        "    account.deposit(500)\n",
        "    print(f\"Balance after deposit: ${account.get_balance():.2f}\")\n",
        "\n",
        "    account.withdraw(300)\n",
        "    print(f\"Balance after withdrawal: ${account.get_balance():.2f}\")\n",
        "\n",
        "    account.withdraw(1500)  # Attempt to withdraw more than the balance\n"
      ],
      "metadata": {
        "colab": {
          "base_uri": "https://localhost:8080/"
        },
        "id": "N04w5WNO6xMh",
        "outputId": "aa35b5d8-1903-4ab0-ad1f-075bb25f77cb"
      },
      "execution_count": 26,
      "outputs": [
        {
          "output_type": "stream",
          "name": "stdout",
          "text": [
            "Account Number: 123456789\n",
            "Initial Balance: $1000.00\n",
            "Deposited: $500.00\n",
            "Balance after deposit: $1500.00\n",
            "Withdrew: $300.00\n",
            "Balance after withdrawal: $1200.00\n",
            "Insufficient funds.\n"
          ]
        }
      ]
    },
    {
      "cell_type": "markdown",
      "source": [
        "11. Write a class that overrides the `__str__` and `__add__` magic methods. What will these methods allow\n",
        "you to do?\n",
        "\n",
        "You can create a class that overrides the __str__ and __add__ magic methods to customize how instances of the class are represented as strings and how they can be added together. Here’s an example using a Vector class:"
      ],
      "metadata": {
        "id": "MFLeyuRa61wo"
      }
    },
    {
      "cell_type": "code",
      "source": [
        "class Vector:\n",
        "    def __init__(self, x, y):\n",
        "        self.x = x\n",
        "        self.y = y\n",
        "\n",
        "    def __str__(self):\n",
        "        return f\"Vector({self.x}, {self.y})\"\n",
        "\n",
        "    def __add__(self, other):\n",
        "        if isinstance(other, Vector):\n",
        "            return Vector(self.x + other.x, self.y + other.y)\n",
        "        return NotImplemented\n",
        "\n",
        "# Example usage\n",
        "if __name__ == \"__main__\":\n",
        "    v1 = Vector(2, 3)\n",
        "    v2 = Vector(4, 5)\n",
        "\n",
        "    print(v1)            # Calls __str__, output: Vector(2, 3)\n",
        "    print(v2)            # Calls __str__, output: Vector(4, 5)\n",
        "\n",
        "    v3 = v1 + v2        # Calls __add__\n",
        "    print(v3)           # Calls __str__, output: Vector(6, 8)\n"
      ],
      "metadata": {
        "colab": {
          "base_uri": "https://localhost:8080/"
        },
        "id": "2ElFDdnC690n",
        "outputId": "0c34f680-7d02-48f5-b964-7fbdead1b1da"
      },
      "execution_count": 27,
      "outputs": [
        {
          "output_type": "stream",
          "name": "stdout",
          "text": [
            "Vector(2, 3)\n",
            "Vector(4, 5)\n",
            "Vector(6, 8)\n"
          ]
        }
      ]
    },
    {
      "cell_type": "markdown",
      "source": [
        "12. Create a decorator that measures and prints the execution time of a function."
      ],
      "metadata": {
        "id": "fdt3lRtN7Aov"
      }
    },
    {
      "cell_type": "code",
      "source": [
        "import time\n",
        "from functools import wraps\n",
        "\n",
        "def timeit(func):\n",
        "    @wraps(func)\n",
        "    def wrapper(*args, **kwargs):\n",
        "        start_time = time.time()  # Start time before the function call\n",
        "        result = func(*args, **kwargs)  # Call the actual function\n",
        "        end_time = time.time()  # End time after the function call\n",
        "        execution_time = end_time - start_time  # Calculate execution time\n",
        "        print(f\"Execution time of {func.__name__}: {execution_time:.4f} seconds\")\n",
        "        return result  # Return the result of the function\n",
        "    return wrapper\n",
        "\n",
        "# Example usage\n",
        "@timeit\n",
        "def example_function(n):\n",
        "    total = 0\n",
        "    for i in range(n):\n",
        "        total += i\n",
        "    return total\n",
        "\n",
        "if __name__ == \"__main__\":\n",
        "    result = example_function(1000000)\n",
        "    print(f\"Result: {result}\")\n"
      ],
      "metadata": {
        "colab": {
          "base_uri": "https://localhost:8080/"
        },
        "id": "xkKaqX6j7Haw",
        "outputId": "f7675579-5214-4e4e-c5b9-103a059551d7"
      },
      "execution_count": 28,
      "outputs": [
        {
          "output_type": "stream",
          "name": "stdout",
          "text": [
            "Execution time of example_function: 0.0693 seconds\n",
            "Result: 499999500000\n"
          ]
        }
      ]
    },
    {
      "cell_type": "markdown",
      "source": [
        "13. Explain the concept of the Diamond Problem in multiple inheritance. How does Python resolve it?\n"
      ],
      "metadata": {
        "id": "jhrMnHwW7KOP"
      }
    },
    {
      "cell_type": "code",
      "source": [
        "class A:\n",
        "    def show(self):\n",
        "        print(\"A's show\")\n",
        "\n",
        "class B(A):\n",
        "    def show(self):\n",
        "        print(\"B's show\")\n",
        "\n",
        "class C(A):\n",
        "    def show(self):\n",
        "        print(\"C's show\")\n",
        "\n",
        "class D(B, C):\n",
        "    pass\n",
        "\n",
        "d = D()\n",
        "d.show()  # Output: B's show\n",
        "\n",
        "print(D.mro())  # Output: [<class '__main__.D'>, <class '__main__.B'>, <class '__main__.C'>, <class '__main__.A'>, <class 'object'>]\n"
      ],
      "metadata": {
        "colab": {
          "base_uri": "https://localhost:8080/"
        },
        "id": "H1zU7JEI7VE-",
        "outputId": "15d97b9e-392b-40c7-b98e-7fd2ed2bf234"
      },
      "execution_count": 30,
      "outputs": [
        {
          "output_type": "stream",
          "name": "stdout",
          "text": [
            "B's show\n",
            "[<class '__main__.D'>, <class '__main__.B'>, <class '__main__.C'>, <class '__main__.A'>, <class 'object'>]\n"
          ]
        }
      ]
    },
    {
      "cell_type": "markdown",
      "source": [
        "14. Write a class method that keeps track of the number of instances created from a class."
      ],
      "metadata": {
        "id": "loWxCmiU7a_W"
      }
    },
    {
      "cell_type": "code",
      "source": [
        "class InstanceCounter:\n",
        "    # Class variable to count instances\n",
        "    instance_count = 0\n",
        "\n",
        "    def __init__(self):\n",
        "        # Increment the instance count each time a new instance is created\n",
        "        InstanceCounter.instance_count += 1\n",
        "\n",
        "    @classmethod\n",
        "    def get_instance_count(cls):\n",
        "        \"\"\"Class method to get the number of instances created.\"\"\"\n",
        "        return cls.instance_count\n",
        "\n",
        "# Example usage\n",
        "if __name__ == \"__main__\":\n",
        "    obj1 = InstanceCounter()\n",
        "    obj2 = InstanceCounter()\n",
        "    obj3 = InstanceCounter()\n",
        "\n",
        "    print(f\"Number of instances created: {InstanceCounter.get_instance_count()}\")\n"
      ],
      "metadata": {
        "colab": {
          "base_uri": "https://localhost:8080/"
        },
        "id": "sTeV1vA_7dTP",
        "outputId": "3d42be2c-232a-483a-d423-d7daab503ab7"
      },
      "execution_count": 31,
      "outputs": [
        {
          "output_type": "stream",
          "name": "stdout",
          "text": [
            "Number of instances created: 3\n"
          ]
        }
      ]
    }
  ]
}